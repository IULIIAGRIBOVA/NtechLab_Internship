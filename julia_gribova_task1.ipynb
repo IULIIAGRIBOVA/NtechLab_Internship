{
 "cells": [
  {
   "cell_type": "code",
   "execution_count": 26,
   "metadata": {},
   "outputs": [],
   "source": [
    "\n",
    "def findMaxSubArray(A):\n",
    "    pred = 0\n",
    "    maxSum = float('-inf')\n",
    "    max_array = []\n",
    "    pred_array = []\n",
    "\n",
    "    for item in A:\n",
    "        pred += item\n",
    "        pred_array.append(item)\n",
    "        if pred>maxSum:\n",
    "            maxSum = pred\n",
    "            max_array = pred_array.copy()\n",
    "        if pred <0:\n",
    "            pred = 0\n",
    "            pred_array = []\n",
    "    return max_array"
   ]
  },
  {
   "cell_type": "code",
   "execution_count": 28,
   "metadata": {},
   "outputs": [
    {
     "data": {
      "text/plain": [
       "[3, 6, 7, -7, 1, 8]"
      ]
     },
     "execution_count": 28,
     "metadata": {},
     "output_type": "execute_result"
    }
   ],
   "source": [
    "arr = [1,2,3,-9, 3,6,7, -7, 1, 8]\n",
    "findMaxSubArray(arr)"
   ]
  }
 ],
 "metadata": {
  "kernelspec": {
   "display_name": "Python 3",
   "language": "python",
   "name": "python3"
  },
  "language_info": {
   "codemirror_mode": {
    "name": "ipython",
    "version": 3
   },
   "file_extension": ".py",
   "mimetype": "text/x-python",
   "name": "python",
   "nbconvert_exporter": "python",
   "pygments_lexer": "ipython3",
   "version": "3.7.6"
  }
 },
 "nbformat": 4,
 "nbformat_minor": 4
}
